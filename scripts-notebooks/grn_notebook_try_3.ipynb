{
 "cells": [
  {
   "cell_type": "markdown",
   "metadata": {},
   "source": [
    "# Gene Regulatory Network Prediction of Yeast Network\n",
    "The task:\n",
    "Predict which transcription factors affects genes (For now this is non-tf)"
   ]
  },
  {
   "cell_type": "code",
   "execution_count": 1,
   "metadata": {
    "lines_to_next_cell": 2
   },
   "outputs": [],
   "source": [
    "# Import stuff\n",
    "import pandas as pd\n",
    "import numpy as np"
   ]
  },
  {
   "cell_type": "code",
   "execution_count": 3,
   "metadata": {},
   "outputs": [],
   "source": [
    "# Get expression data\n",
    "ko_df = pd.read_csv('../dataset/yeast_networks/expression/KO.txt', sep='\\t').set_index('Gene')\n",
    "nv_df = pd.read_csv('../dataset/yeast_networks/expression/NatVar.txt', sep='\\t').set_index('Gene')\n",
    "stress_df = pd.read_csv('../dataset/yeast_networks/expression/Stress.txt', sep='\\t').set_index('Name')\n",
    "\n",
    "# Get Transcription Factors\n",
    "ko_tf = pd.read_csv('../dataset/yeast_networks/expression/KO_TF_names.txt', sep='\\t', header=None)\n",
    "ko_tf.columns = ['TF']\n",
    "\n",
    "nv_tf = pd.read_csv('../dataset/yeast_networks/expression/NatVar_TF_names.txt', sep='\\t', header=None)\n",
    "nv_tf.columns = ['TF']\n",
    "\n",
    "stress_tf = pd.read_csv('../dataset/yeast_networks/expression/Stress_TF_names.txt', sep='\\t', header=None)\n",
    "stress_tf.columns = ['TF']\n",
    "\n",
    "# Note that there are different gene list for each df, so we will use ko as test for now."
   ]
  },
  {
   "cell_type": "code",
   "execution_count": 5,
   "metadata": {},
   "outputs": [],
   "source": [
    "df = ko_df.merge(nv_df, how='inner', left_index=True, right_index=True)\n",
    "df = df.merge(stress_df, how='inner', left_index=True, right_index=True)\n",
    "\n",
    "tf = ko_tf.merge(nv_tf, how='inner', left_on='TF', right_on='TF')\n",
    "tf = tf.merge(stress_tf, how='inner', left_on='TF', right_on='TF')"
   ]
  },
  {
   "cell_type": "code",
   "execution_count": 6,
   "metadata": {},
   "outputs": [],
   "source": [
    "# Prepare dataset: set which are the predictors (TF), and which are the targets\n",
    "from sklearn import model_selection\n",
    "def prep_dataset(target_gene, tf_list, exp_df):\n",
    "    '''\n",
    "    Prepares training set and test set for target gene\n",
    "    \n",
    "    Args:\n",
    "        - target_gene: target gene for the iteration (y)\n",
    "        - exp_df: expression dataframe (already in pandas df format)\n",
    "        - tf_list: transcription factors, which will be the predictors (X)\n",
    "        \n",
    "    Returns:\n",
    "        - Training and Testing set to be used in model predictions\n",
    "        - label for predictors, so we can subset this later\n",
    "    '''\n",
    "    # Get y (target) and predictor matrix (X)\n",
    "    y = exp_df.loc[target_gene, :].values\n",
    "    X = exp_df.loc[tf_list, :]\n",
    "    \n",
    "    if target_gene in tf_list.values:\n",
    "        X = X.drop(index=target_gene)\n",
    "    \n",
    "    X_label = X.index # Predictor labels for X\n",
    "    X = X.values.transpose()\n",
    "    \n",
    "    # Split 80:20 for test and train\n",
    "    X_train, X_test, y_train, y_test = model_selection.train_test_split(X, y, test_size = 0.2)\n",
    "\n",
    "    \n",
    "    return X_train, X_test, y_train, y_test, X_label\n",
    "\n"
   ]
  },
  {
   "cell_type": "code",
   "execution_count": 8,
   "metadata": {
    "lines_to_next_cell": 2
   },
   "outputs": [],
   "source": [
    "from sklearn.linear_model import Lasso, LassoCV\n",
    "from sklearn.metrics import mean_squared_error\n",
    "from sklearn.ensemble import RandomForestRegressor\n",
    "\n",
    "def grn_lasso(target_gene, tf_list, exp_df):\n",
    "    '''\n",
    "    GRN inference method using lasso regression\n",
    "    \n",
    "    Args:\n",
    "        - target_gene: target gene for the iteration (y)\n",
    "        - exp_df: expression dataframe (already in pandas df format)\n",
    "        - tf_list: transcription factors, which will be the predictors (X)\n",
    "        \n",
    "    Returns:\n",
    "        - Numpy array of type str, with list of non-zero weight predictors\n",
    "    '''\n",
    "    # Prep data\n",
    "    X_train, X_test, y_train, y_test, X_label = prep_dataset(target_gene, tf_list, exp_df)\n",
    "    \n",
    "    # Use Lasso regression\n",
    "    lasso_reg = LassoCV(alphas = [0.01, 0.1, 1, 10, 100], cv=5)\n",
    "    lasso_reg.fit(X_train, y_train)\n",
    "    \n",
    "    # Get scores (R^2)\n",
    "    train_score = lasso_reg.score(X_train, y_train) # Note: R^2 not very good, maybe use other methods\n",
    "    test_score = lasso_reg.score(X_test, y_test)\n",
    "    \n",
    "    # Get weights of lasso, non zero weights are regulators\n",
    "    predictors = X_label\n",
    "    nonzero_filter = lasso_reg.coef_ != 0\n",
    "    nonzero_preds = predictors[nonzero_filter]\n",
    "    \n",
    "    return nonzero_preds.values\n",
    "\n",
    "def grn_regforest(target_gene, tf_list, exp_df):\n",
    "    '''\n",
    "    GRN inference method using regression forest. This method does not assume linearity of data.\n",
    "    \n",
    "    Args:\n",
    "        - target_gene: target gene for the iteration (y)\n",
    "        - exp_df: expression dataframe (already in pandas df format)\n",
    "        - tf_list: transcription factors, which will be the predictors (X)\n",
    "        \n",
    "    Returns:\n",
    "        - Numpy array of type str, with list of non-zero weight predictors\n",
    "        \n",
    "    '''\n",
    "    # Prep data\n",
    "    X_train, X_test, y_train, y_test, X_label = prep_dataset(target_gene, tf_list, exp_df)\n",
    "    \n",
    "    # Use regerssion tree\n",
    "    forest_reg = RandomForestRegressor(n_estimators = 10, max_depth = 8, bootstrap = True, min_samples_leaf = 10, n_jobs=-1)\n",
    "    forest_reg.fit(X_train, y_train)\n",
    "    \n",
    "    # Get Scores (R^2)\n",
    "    train_score = forest_reg.score(X_train, y_train)\n",
    "    test_score = forest_reg.score(X_test, y_test)\n",
    "    \n",
    "    # Get feature importance\n",
    "    predictors = X_label\n",
    "    nonzero_filter = forest_reg.feature_importances_ != 0\n",
    "    nonzero_preds = predictors[nonzero_filter]\n",
    "    \n",
    "    return nonzero_preds.values\n",
    "\n",
    "\n",
    "\n",
    "# Read in an expression file, and predict GRN using a method\n",
    "def predict_grn(exp_df, tf_list, method, *args):\n",
    "    '''\n",
    "    Function that reads in expression level and predict its GRN using a specific method\n",
    "    \n",
    "    Args:\n",
    "        - exp_df: expression dataframe (already in pandas df format), index is gene names, columns are sample / treatments\n",
    "        - method: Method of inferring GRN (Example: grn_lasso)\n",
    "        - *args: additional arguments for method\n",
    "        - tf_list: transcription factors, which will be the predictors (X)\n",
    "        \n",
    "    Returns:\n",
    "        - Set of predicted edges with format (regulator(space)target)\n",
    "    '''\n",
    "    \n",
    "    pred_edges = set()\n",
    "\n",
    "    for target in exp_df.index.values:\n",
    "        # Get regulators for every target gene\n",
    "\n",
    "        pred_regs = method(target, tf_list, exp_df, *args)\n",
    "\n",
    "        # Add the predicted regulators -> target edge to the predicted edges\n",
    "        for reg in pred_regs:\n",
    "            pred_edges.add(f'{reg}->{target}')\n",
    "    \n",
    "    return pred_edges"
   ]
  },
  {
   "cell_type": "code",
   "execution_count": 11,
   "metadata": {},
   "outputs": [],
   "source": [
    "# Performance Metrics\n",
    "\n",
    "def iou_score(gold_df, pred_grn_edges):\n",
    "    '''\n",
    "    Function to score predicted grn vs gold standard based on intersection over union.\n",
    "\n",
    "    Score:\n",
    "    For starters, we will use the simple score of intersection / union\n",
    "    Intersection: Count of edges in both gold standard AND predicted grn\n",
    "    Union: Count of gold standard edges + predicted grn edges - Intersection\n",
    "\n",
    "    Intersection / Union is the score.\n",
    "\n",
    "    Args:\n",
    "        - gold_file: Path to gold standard file\n",
    "        - pred_grn_edges: set of predicted grn edges\n",
    "\n",
    "    Returns:\n",
    "        - IOU score\n",
    "    '''\n",
    "\n",
    "    # Set of gold standard edges\n",
    "    gold_edge_set = set(gold_df.loc[:, 'Regulator'] + '->' + gold_df.loc[:, 'Target'])\n",
    "\n",
    "    gold_regulators = set(gold_df.loc[:, 'Regulator'])\n",
    "    pred_grn_edges = [edge for edge in pred_grn_edges if edge.split('->')[0] in gold_regulators]\n",
    "\n",
    "    # Get Intersection and Union\n",
    "    intersection = gold_edge_set.intersection(pred_grn_edges)\n",
    "    union = gold_edge_set.union(pred_grn_edges)\n",
    "\n",
    "    # Get score: Intersection / Union\n",
    "    iou_score = len(intersection) / len(union)\n",
    "    print(f'Union edges count: {len(union)}')\n",
    "    print(f'Intersection edges count: {len(intersection)}')\n",
    "        \n",
    "    return iou_score"
   ]
  },
  {
   "cell_type": "code",
   "execution_count": 9,
   "metadata": {
    "lines_to_next_cell": 2
   },
   "outputs": [
    {
     "name": "stdout",
     "output_type": "stream",
     "text": [
      "Time Training RegForest:  01:15:00\n"
     ]
    },
    {
     "name": "stderr",
     "output_type": "stream",
     "text": [
      "/Users/SamYang95/miniconda3/lib/python3.7/site-packages/sklearn/linear_model/coordinate_descent.py:471: ConvergenceWarning: Objective did not converge. You might want to increase the number of iterations. Duality gap: 1.6516312924229624, tolerance: 0.7359066690891514\n",
      "  tol, rng, random, positive)\n",
      "/Users/SamYang95/miniconda3/lib/python3.7/site-packages/sklearn/linear_model/coordinate_descent.py:471: ConvergenceWarning: Objective did not converge. You might want to increase the number of iterations. Duality gap: 3.0589834671579865, tolerance: 1.0344055809929955\n",
      "  tol, rng, random, positive)\n",
      "/Users/SamYang95/miniconda3/lib/python3.7/site-packages/sklearn/linear_model/coordinate_descent.py:471: ConvergenceWarning: Objective did not converge. You might want to increase the number of iterations. Duality gap: 7.312769507908342, tolerance: 1.0388831425471838\n",
      "  tol, rng, random, positive)\n",
      "/Users/SamYang95/miniconda3/lib/python3.7/site-packages/sklearn/linear_model/coordinate_descent.py:471: ConvergenceWarning: Objective did not converge. You might want to increase the number of iterations. Duality gap: 1.0729260022446852, tolerance: 1.0137807535781709\n",
      "  tol, rng, random, positive)\n",
      "/Users/SamYang95/miniconda3/lib/python3.7/site-packages/sklearn/linear_model/coordinate_descent.py:471: ConvergenceWarning: Objective did not converge. You might want to increase the number of iterations. Duality gap: 10.021974706638503, tolerance: 0.9668110843379335\n",
      "  tol, rng, random, positive)\n",
      "/Users/SamYang95/miniconda3/lib/python3.7/site-packages/sklearn/linear_model/coordinate_descent.py:471: ConvergenceWarning: Objective did not converge. You might want to increase the number of iterations. Duality gap: 7.717271985305615, tolerance: 0.931077751431843\n",
      "  tol, rng, random, positive)\n",
      "/Users/SamYang95/miniconda3/lib/python3.7/site-packages/sklearn/linear_model/coordinate_descent.py:471: ConvergenceWarning: Objective did not converge. You might want to increase the number of iterations. Duality gap: 2.3725062269413684, tolerance: 0.9590653167847366\n",
      "  tol, rng, random, positive)\n",
      "/Users/SamYang95/miniconda3/lib/python3.7/site-packages/sklearn/linear_model/coordinate_descent.py:471: ConvergenceWarning: Objective did not converge. You might want to increase the number of iterations. Duality gap: 3.3308316497250416, tolerance: 0.9471183714805997\n",
      "  tol, rng, random, positive)\n",
      "/Users/SamYang95/miniconda3/lib/python3.7/site-packages/sklearn/linear_model/coordinate_descent.py:471: ConvergenceWarning: Objective did not converge. You might want to increase the number of iterations. Duality gap: 5.193046531662731, tolerance: 0.9450370077630807\n",
      "  tol, rng, random, positive)\n",
      "/Users/SamYang95/miniconda3/lib/python3.7/site-packages/sklearn/linear_model/coordinate_descent.py:471: ConvergenceWarning: Objective did not converge. You might want to increase the number of iterations. Duality gap: 1.0444029391371714, tolerance: 0.4247268073532989\n",
      "  tol, rng, random, positive)\n",
      "/Users/SamYang95/miniconda3/lib/python3.7/site-packages/sklearn/linear_model/coordinate_descent.py:471: ConvergenceWarning: Objective did not converge. You might want to increase the number of iterations. Duality gap: 2.032041598727801, tolerance: 0.9683471673051518\n",
      "  tol, rng, random, positive)\n",
      "/Users/SamYang95/miniconda3/lib/python3.7/site-packages/sklearn/linear_model/coordinate_descent.py:471: ConvergenceWarning: Objective did not converge. You might want to increase the number of iterations. Duality gap: 5.108621767333489, tolerance: 0.9936892471858206\n",
      "  tol, rng, random, positive)\n",
      "/Users/SamYang95/miniconda3/lib/python3.7/site-packages/sklearn/linear_model/coordinate_descent.py:471: ConvergenceWarning: Objective did not converge. You might want to increase the number of iterations. Duality gap: 3.6460328120992926, tolerance: 0.9508606183330118\n",
      "  tol, rng, random, positive)\n",
      "/Users/SamYang95/miniconda3/lib/python3.7/site-packages/sklearn/linear_model/coordinate_descent.py:471: ConvergenceWarning: Objective did not converge. You might want to increase the number of iterations. Duality gap: 18.571227425678217, tolerance: 0.9860069791393923\n",
      "  tol, rng, random, positive)\n",
      "/Users/SamYang95/miniconda3/lib/python3.7/site-packages/sklearn/linear_model/coordinate_descent.py:471: ConvergenceWarning: Objective did not converge. You might want to increase the number of iterations. Duality gap: 5.260015080713856, tolerance: 0.8738444976752584\n",
      "  tol, rng, random, positive)\n",
      "/Users/SamYang95/miniconda3/lib/python3.7/site-packages/sklearn/linear_model/coordinate_descent.py:471: ConvergenceWarning: Objective did not converge. You might want to increase the number of iterations. Duality gap: 4.67212069765219, tolerance: 0.526431285584297\n",
      "  tol, rng, random, positive)\n",
      "/Users/SamYang95/miniconda3/lib/python3.7/site-packages/sklearn/linear_model/coordinate_descent.py:471: ConvergenceWarning: Objective did not converge. You might want to increase the number of iterations. Duality gap: 0.7298889314402004, tolerance: 0.5317561811005741\n",
      "  tol, rng, random, positive)\n",
      "/Users/SamYang95/miniconda3/lib/python3.7/site-packages/sklearn/linear_model/coordinate_descent.py:471: ConvergenceWarning: Objective did not converge. You might want to increase the number of iterations. Duality gap: 1.2112910776697845, tolerance: 0.5024240461539465\n",
      "  tol, rng, random, positive)\n",
      "/Users/SamYang95/miniconda3/lib/python3.7/site-packages/sklearn/linear_model/coordinate_descent.py:471: ConvergenceWarning: Objective did not converge. You might want to increase the number of iterations. Duality gap: 7.230871036166718, tolerance: 0.5150744181785628\n",
      "  tol, rng, random, positive)\n",
      "/Users/SamYang95/miniconda3/lib/python3.7/site-packages/sklearn/linear_model/coordinate_descent.py:471: ConvergenceWarning: Objective did not converge. You might want to increase the number of iterations. Duality gap: 0.4297690244225123, tolerance: 0.268620081149831\n",
      "  tol, rng, random, positive)\n",
      "/Users/SamYang95/miniconda3/lib/python3.7/site-packages/sklearn/linear_model/coordinate_descent.py:471: ConvergenceWarning: Objective did not converge. You might want to increase the number of iterations. Duality gap: 0.5074280741537223, tolerance: 0.2795532533199958\n",
      "  tol, rng, random, positive)\n",
      "/Users/SamYang95/miniconda3/lib/python3.7/site-packages/sklearn/linear_model/coordinate_descent.py:471: ConvergenceWarning: Objective did not converge. You might want to increase the number of iterations. Duality gap: 0.8790282728575676, tolerance: 0.2736232154499692\n",
      "  tol, rng, random, positive)\n",
      "/Users/SamYang95/miniconda3/lib/python3.7/site-packages/sklearn/linear_model/coordinate_descent.py:471: ConvergenceWarning: Objective did not converge. You might want to increase the number of iterations. Duality gap: 1.0081094953721959, tolerance: 0.36126484091939864\n",
      "  tol, rng, random, positive)\n",
      "/Users/SamYang95/miniconda3/lib/python3.7/site-packages/sklearn/linear_model/coordinate_descent.py:471: ConvergenceWarning: Objective did not converge. You might want to increase the number of iterations. Duality gap: 1.0860744095025439, tolerance: 0.48252115720232064\n",
      "  tol, rng, random, positive)\n",
      "/Users/SamYang95/miniconda3/lib/python3.7/site-packages/sklearn/linear_model/coordinate_descent.py:471: ConvergenceWarning: Objective did not converge. You might want to increase the number of iterations. Duality gap: 0.7037107565151928, tolerance: 0.47097490401828873\n",
      "  tol, rng, random, positive)\n",
      "/Users/SamYang95/miniconda3/lib/python3.7/site-packages/sklearn/linear_model/coordinate_descent.py:471: ConvergenceWarning: Objective did not converge. You might want to increase the number of iterations. Duality gap: 3.458072885801357, tolerance: 1.2755279504808548\n",
      "  tol, rng, random, positive)\n",
      "/Users/SamYang95/miniconda3/lib/python3.7/site-packages/sklearn/linear_model/coordinate_descent.py:471: ConvergenceWarning: Objective did not converge. You might want to increase the number of iterations. Duality gap: 22.990158822017747, tolerance: 1.2830906598811833\n",
      "  tol, rng, random, positive)\n",
      "/Users/SamYang95/miniconda3/lib/python3.7/site-packages/sklearn/linear_model/coordinate_descent.py:471: ConvergenceWarning: Objective did not converge. You might want to increase the number of iterations. Duality gap: 13.60638023908814, tolerance: 1.2693035981833778\n",
      "  tol, rng, random, positive)\n",
      "/Users/SamYang95/miniconda3/lib/python3.7/site-packages/sklearn/linear_model/coordinate_descent.py:471: ConvergenceWarning: Objective did not converge. You might want to increase the number of iterations. Duality gap: 17.573117720422033, tolerance: 1.3123267479358782\n",
      "  tol, rng, random, positive)\n"
     ]
    },
    {
     "name": "stderr",
     "output_type": "stream",
     "text": [
      "/Users/SamYang95/miniconda3/lib/python3.7/site-packages/sklearn/linear_model/coordinate_descent.py:471: ConvergenceWarning: Objective did not converge. You might want to increase the number of iterations. Duality gap: 9.522625991355198, tolerance: 1.2708616753339854\n",
      "  tol, rng, random, positive)\n",
      "/Users/SamYang95/miniconda3/lib/python3.7/site-packages/sklearn/linear_model/coordinate_descent.py:471: ConvergenceWarning: Objective did not converge. You might want to increase the number of iterations. Duality gap: 18.02415833342866, tolerance: 1.4407523029457638\n",
      "  tol, rng, random, positive)\n",
      "/Users/SamYang95/miniconda3/lib/python3.7/site-packages/sklearn/linear_model/coordinate_descent.py:471: ConvergenceWarning: Objective did not converge. You might want to increase the number of iterations. Duality gap: 6.1238733866971415, tolerance: 1.3524376594242564\n",
      "  tol, rng, random, positive)\n",
      "/Users/SamYang95/miniconda3/lib/python3.7/site-packages/sklearn/linear_model/coordinate_descent.py:471: ConvergenceWarning: Objective did not converge. You might want to increase the number of iterations. Duality gap: 1.6047012334638566, tolerance: 1.3522744071612474\n",
      "  tol, rng, random, positive)\n",
      "/Users/SamYang95/miniconda3/lib/python3.7/site-packages/sklearn/linear_model/coordinate_descent.py:471: ConvergenceWarning: Objective did not converge. You might want to increase the number of iterations. Duality gap: 25.54225253209188, tolerance: 1.375565633146071\n",
      "  tol, rng, random, positive)\n",
      "/Users/SamYang95/miniconda3/lib/python3.7/site-packages/sklearn/linear_model/coordinate_descent.py:471: ConvergenceWarning: Objective did not converge. You might want to increase the number of iterations. Duality gap: 18.710744090715707, tolerance: 1.1801269118682203\n",
      "  tol, rng, random, positive)\n",
      "/Users/SamYang95/miniconda3/lib/python3.7/site-packages/sklearn/linear_model/coordinate_descent.py:471: ConvergenceWarning: Objective did not converge. You might want to increase the number of iterations. Duality gap: 13.026770063815093, tolerance: 1.5168203637443074\n",
      "  tol, rng, random, positive)\n",
      "/Users/SamYang95/miniconda3/lib/python3.7/site-packages/sklearn/linear_model/coordinate_descent.py:471: ConvergenceWarning: Objective did not converge. You might want to increase the number of iterations. Duality gap: 29.55802951342639, tolerance: 1.495584814995058\n",
      "  tol, rng, random, positive)\n",
      "/Users/SamYang95/miniconda3/lib/python3.7/site-packages/sklearn/linear_model/coordinate_descent.py:471: ConvergenceWarning: Objective did not converge. You might want to increase the number of iterations. Duality gap: 20.013776661620795, tolerance: 1.3979626838987882\n",
      "  tol, rng, random, positive)\n",
      "/Users/SamYang95/miniconda3/lib/python3.7/site-packages/sklearn/linear_model/coordinate_descent.py:471: ConvergenceWarning: Objective did not converge. You might want to increase the number of iterations. Duality gap: 19.64212970105882, tolerance: 1.3737760936545624\n",
      "  tol, rng, random, positive)\n",
      "/Users/SamYang95/miniconda3/lib/python3.7/site-packages/sklearn/linear_model/coordinate_descent.py:471: ConvergenceWarning: Objective did not converge. You might want to increase the number of iterations. Duality gap: 9.999430899905747, tolerance: 1.6187365837657526\n",
      "  tol, rng, random, positive)\n",
      "/Users/SamYang95/miniconda3/lib/python3.7/site-packages/sklearn/linear_model/coordinate_descent.py:471: ConvergenceWarning: Objective did not converge. You might want to increase the number of iterations. Duality gap: 9.758708844813555, tolerance: 1.0749820676104234\n",
      "  tol, rng, random, positive)\n",
      "/Users/SamYang95/miniconda3/lib/python3.7/site-packages/sklearn/linear_model/coordinate_descent.py:471: ConvergenceWarning: Objective did not converge. You might want to increase the number of iterations. Duality gap: 4.766711689632757, tolerance: 1.0902172210076195\n",
      "  tol, rng, random, positive)\n",
      "/Users/SamYang95/miniconda3/lib/python3.7/site-packages/sklearn/linear_model/coordinate_descent.py:471: ConvergenceWarning: Objective did not converge. You might want to increase the number of iterations. Duality gap: 11.007433427909973, tolerance: 1.0389949901078563\n",
      "  tol, rng, random, positive)\n",
      "/Users/SamYang95/miniconda3/lib/python3.7/site-packages/sklearn/linear_model/coordinate_descent.py:471: ConvergenceWarning: Objective did not converge. You might want to increase the number of iterations. Duality gap: 22.780835092987218, tolerance: 1.0601064110468554\n",
      "  tol, rng, random, positive)\n",
      "/Users/SamYang95/miniconda3/lib/python3.7/site-packages/sklearn/linear_model/coordinate_descent.py:471: ConvergenceWarning: Objective did not converge. You might want to increase the number of iterations. Duality gap: 8.445668054714133, tolerance: 1.0014217825832892\n",
      "  tol, rng, random, positive)\n",
      "/Users/SamYang95/miniconda3/lib/python3.7/site-packages/sklearn/linear_model/coordinate_descent.py:471: ConvergenceWarning: Objective did not converge. You might want to increase the number of iterations. Duality gap: 1.1231425395532142, tolerance: 0.2653112651030243\n",
      "  tol, rng, random, positive)\n",
      "/Users/SamYang95/miniconda3/lib/python3.7/site-packages/sklearn/linear_model/coordinate_descent.py:471: ConvergenceWarning: Objective did not converge. You might want to increase the number of iterations. Duality gap: 0.8280083417636206, tolerance: 0.2923303853305384\n",
      "  tol, rng, random, positive)\n",
      "/Users/SamYang95/miniconda3/lib/python3.7/site-packages/sklearn/linear_model/coordinate_descent.py:471: ConvergenceWarning: Objective did not converge. You might want to increase the number of iterations. Duality gap: 1.265882844568523, tolerance: 0.35800893629080754\n",
      "  tol, rng, random, positive)\n",
      "/Users/SamYang95/miniconda3/lib/python3.7/site-packages/sklearn/linear_model/coordinate_descent.py:471: ConvergenceWarning: Objective did not converge. You might want to increase the number of iterations. Duality gap: 0.514556510747866, tolerance: 0.35667941654164165\n",
      "  tol, rng, random, positive)\n",
      "/Users/SamYang95/miniconda3/lib/python3.7/site-packages/sklearn/linear_model/coordinate_descent.py:471: ConvergenceWarning: Objective did not converge. You might want to increase the number of iterations. Duality gap: 2.0488736072886695, tolerance: 1.4291933568082398\n",
      "  tol, rng, random, positive)\n",
      "/Users/SamYang95/miniconda3/lib/python3.7/site-packages/sklearn/linear_model/coordinate_descent.py:471: ConvergenceWarning: Objective did not converge. You might want to increase the number of iterations. Duality gap: 3.380149945721996, tolerance: 1.478078818994181\n",
      "  tol, rng, random, positive)\n"
     ]
    },
    {
     "name": "stdout",
     "output_type": "stream",
     "text": [
      "Time Training Lasso:  01:35:49\n"
     ]
    }
   ],
   "source": [
    "# Predict Edges\n",
    "import time\n",
    "\n",
    "time_0 = time.time()\n",
    "\n",
    "regforest_edges = predict_grn(df, tf.loc[:, 'TF'], grn_regforest)\n",
    "time_1 = time.time()\n",
    "print(\"Time Training RegForest: \", time.strftime(\"%H:%M:%S\", time.gmtime(time_1 - time_0)))\n",
    "\n",
    "lasso_edges = predict_grn(df, tf.loc[:, 'TF'], grn_lasso)\n",
    "time_2 = time.time()\n",
    "print(\"Time Training Lasso: \", time.strftime(\"%H:%M:%S\", time.gmtime(time_2 - time_0)))"
   ]
  },
  {
   "cell_type": "code",
   "execution_count": 12,
   "metadata": {},
   "outputs": [],
   "source": [
    "ko_gold_df = pd.read_csv(\"../dataset/yeast_networks/gold/MacIsaac2.KO.txt\", sep = '\\t', header = None, names = ['Regulator', 'Target'])\n",
    "nv_gold_df = pd.read_csv(\"../dataset/yeast_networks/gold/MacIsaac2.NatVar.txt\", sep = '\\t', header = None, names = ['Regulator', 'Target'])\n",
    "stress_gold_df = pd.read_csv(\"../dataset/yeast_networks/gold/MacIsaac2.Stress.txt\", sep = '\\t', header = None, names = ['Regulator', 'Target'])\n",
    "\n",
    "gold_df = ko_gold_df.merge(nv_gold_df, how='outer', left_on=['Regulator', 'Target'], right_on=['Regulator', 'Target'])\n",
    "gold_df = gold_df.merge(stress_gold_df, how='outer', left_on=['Regulator', 'Target'], right_on=['Regulator', 'Target'])"
   ]
  },
  {
   "cell_type": "code",
   "execution_count": 20,
   "metadata": {},
   "outputs": [
    {
     "data": {
      "text/html": [
       "\n",
       "                <audio  controls=\"controls\" autoplay=\"autoplay\">\n",
       "                    <source src=\"https://sound.peal.io/ps/audios/000/000/537/original/woo_vu_luvub_dub_dub.wav\" type=\"audio/x-wav\" />\n",
       "                    Your browser does not support the audio element.\n",
       "                </audio>\n",
       "              "
      ],
      "text/plain": [
       "<IPython.lib.display.Audio object>"
      ]
     },
     "metadata": {},
     "output_type": "display_data"
    }
   ],
   "source": [
    "FinallyItIsDone()"
   ]
  },
  {
   "cell_type": "code",
   "execution_count": 16,
   "metadata": {
    "lines_to_next_cell": 2
   },
   "outputs": [
    {
     "name": "stdout",
     "output_type": "stream",
     "text": [
      "Union edges count: 206278\n",
      "Intersection edges count: 1394\n",
      "Union edges count: 238909\n",
      "Intersection edges count: 1509\n"
     ]
    }
   ],
   "source": [
    "lasso_score = iou_score(gold_df, lasso_edges)\n",
    "regforest_score = iou_score(gold_df, regforest_edges)"
   ]
  },
  {
   "cell_type": "code",
   "execution_count": 18,
   "metadata": {},
   "outputs": [
    {
     "name": "stdout",
     "output_type": "stream",
     "text": [
      "KO Lasso score: 0.006757870446678754\n",
      "KO Regforest score: 0.006316212449091495\n"
     ]
    }
   ],
   "source": [
    "print(f'KO Lasso score: {lasso_score}') # Much better than last time in try 1\n",
    "print(f'KO Regforest score: {regforest_score}') "
   ]
  },
  {
   "cell_type": "code",
   "execution_count": 19,
   "metadata": {},
   "outputs": [],
   "source": [
    "# Sound alert after code is finished!\n",
    "from IPython.display import Audio, display\n",
    "def FinallyItIsDone():\n",
    "  display(Audio(url='https://sound.peal.io/ps/audios/000/000/537/original/woo_vu_luvub_dub_dub.wav', autoplay=True))"
   ]
  },
  {
   "cell_type": "code",
   "execution_count": null,
   "metadata": {},
   "outputs": [],
   "source": []
  }
 ],
 "metadata": {
  "jupytext": {
   "cell_metadata_filter": "-all",
   "encoding": "# coding: utf-8",
   "executable": "/usr/bin/env python",
   "main_language": "python",
   "notebook_metadata_filter": "-all"
  },
  "kernelspec": {
   "display_name": "Python 3",
   "language": "python",
   "name": "python3"
  },
  "language_info": {
   "codemirror_mode": {
    "name": "ipython",
    "version": 3
   },
   "file_extension": ".py",
   "mimetype": "text/x-python",
   "name": "python",
   "nbconvert_exporter": "python",
   "pygments_lexer": "ipython3",
   "version": "3.7.3"
  }
 },
 "nbformat": 4,
 "nbformat_minor": 2
}
