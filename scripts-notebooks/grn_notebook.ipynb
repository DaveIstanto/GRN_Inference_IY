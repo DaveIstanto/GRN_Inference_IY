{
 "cells": [
  {
   "cell_type": "markdown",
   "metadata": {},
   "source": [
    "# Gene Regulatory Network Inference\n",
    "This is the notebook to process data and define functions before making a python script"
   ]
  },
  {
   "cell_type": "code",
   "execution_count": 1,
   "metadata": {},
   "outputs": [],
   "source": [
    "# Import basic packages\n",
    "import pandas as pd\n",
    "import numpy as np"
   ]
  },
  {
   "cell_type": "code",
   "execution_count": 26,
   "metadata": {},
   "outputs": [],
   "source": [
    "# LCL expression data\n",
    "lcl_exp_path = '../dataset/LCL_networks/expression'\n",
    "lcl_geu = pd.read_csv(f'{lcl_exp_path}/Geuvadis.txt', sep = '\\t').set_index('Gene')"
   ]
  },
  {
   "cell_type": "code",
   "execution_count": 3,
   "metadata": {},
   "outputs": [],
   "source": [
    "# Make prepare dataset function\n",
    "from sklearn import model_selection\n",
    "def prep_dataset(target_gene, exp_df):\n",
    "    '''\n",
    "    Prepares training set and test set for target gene\n",
    "    '''\n",
    "    # Get y (target) and predictor matrix (X)\n",
    "    y = exp_df.loc[target_gene, :]\n",
    "    X = exp_df.drop(target_gene).transpose().values\n",
    "    \n",
    "    \n",
    "    # Split 80:20 for test and train\n",
    "    X_train, X_test, y_train, y_test = model_selection.train_test_split(X, y, test_size = 0.2)\n",
    "    \n",
    "    return X_train, X_test, y_train, y_test\n",
    "\n",
    "from sklearn.linear_model import Lasso\n",
    "from sklearn.metrics import mean_squared_error\n",
    "\n",
    "def grn_lasso(target_gene, exp_df):\n",
    "    # Prep data\n",
    "    X_train, X_test, y_train, y_test = prep_dataset(target_gene, exp_df)\n",
    "    \n",
    "    # Use Lasso regression with Cross validations\n",
    "    lasso_reg = Lasso(alpha = 0.01)\n",
    "    lasso_reg.fit(X_train, y_train)\n",
    "    \n",
    "    # Get scores (R^2)\n",
    "    train_score = lasso_reg.score(X_train, y_train) # Note: R^2 not very good, maybe use other methods\n",
    "    test_score = lasso_reg.score(X_test, y_test)\n",
    "    \n",
    "    # Get weights of lasso, non zero weights are regulators\n",
    "    predictors = exp_df.drop(target_gene).index\n",
    "    zero_coef_filter= lasso_reg.coef_ == 0\n",
    "    non_zero_preds = predictors[zero_coef_filter]\n",
    "    \n",
    "    \n",
    "    return non_zero_preds.values"
   ]
  },
  {
   "cell_type": "code",
   "execution_count": 6,
   "metadata": {},
   "outputs": [
    {
     "name": "stderr",
     "output_type": "stream",
     "text": [
      "/usr/local/lib/python3.7/site-packages/sklearn/linear_model/coordinate_descent.py:492: ConvergenceWarning: Objective did not converge. You might want to increase the number of iterations. Fitting data with very small alpha may cause precision problems.\n",
      "  ConvergenceWarning)\n",
      "/usr/local/lib/python3.7/site-packages/sklearn/linear_model/coordinate_descent.py:492: ConvergenceWarning: Objective did not converge. You might want to increase the number of iterations. Fitting data with very small alpha may cause precision problems.\n",
      "  ConvergenceWarning)\n",
      "/usr/local/lib/python3.7/site-packages/sklearn/linear_model/coordinate_descent.py:492: ConvergenceWarning: Objective did not converge. You might want to increase the number of iterations. Fitting data with very small alpha may cause precision problems.\n",
      "  ConvergenceWarning)\n"
     ]
    }
   ],
   "source": [
    "# Gene Regulator dictionary\n",
    "# Key: target gene\n",
    "# Value: List of regulators\n",
    "\n",
    "lcl_regulators = dict()\n",
    "\n",
    "lcl_genes = lcl_geu.index.values\n",
    "for gene in lcl_genes:\n",
    "    lcl_regulators[gene] = grn_lasso(gene, lcl_geu)"
   ]
  },
  {
   "cell_type": "code",
   "execution_count": 42,
   "metadata": {},
   "outputs": [
    {
     "name": "stderr",
     "output_type": "stream",
     "text": [
      "/usr/local/lib/python3.7/site-packages/sklearn/linear_model/coordinate_descent.py:492: ConvergenceWarning: Objective did not converge. You might want to increase the number of iterations. Fitting data with very small alpha may cause precision problems.\n",
      "  ConvergenceWarning)\n",
      "/usr/local/lib/python3.7/site-packages/sklearn/linear_model/coordinate_descent.py:492: ConvergenceWarning: Objective did not converge. You might want to increase the number of iterations. Fitting data with very small alpha may cause precision problems.\n",
      "  ConvergenceWarning)\n"
     ]
    }
   ],
   "source": [
    "# Read in an expression file, and predict GRN using a method\n",
    "def predict_grn(exp_file, method, *args):\n",
    "    '''\n",
    "    Function that reads in expression level and predict its GRN using a specific method\n",
    "    \n",
    "    Args:\n",
    "        - exp_file: Path to expression file\n",
    "        - method: Method of inferring GRN (Example: grn_lasso)\n",
    "        - *args: additional arguments for method\n",
    "    \n",
    "    Returns:\n",
    "        - Set of predicted edges with format (regulator(space)target)\n",
    "    '''\n",
    "\n",
    "    exp_df = pd.read_csv(exp_file, sep = '\\t').set_index('Gene')\n",
    "\n",
    "    pred_edges = set()\n",
    "    \n",
    "    \n",
    "    for target in exp_df.index.values:\n",
    "        # Get regulators for every target gene\n",
    "        pred_regs = method(target, exp_df, *args)\n",
    "        \n",
    "        # Add the predicted regulators -> target edge to the predicted edges\n",
    "        for reg in pred_regs:\n",
    "            pred_edges.add(f'{reg}->{target}')\n",
    "    \n",
    "    return pred_edges\n",
    "\n",
    "lcl_pred_edges = predict_grn(f'{lcl_exp_path}/Geuvadis.txt', grn_lasso)"
   ]
  },
  {
   "cell_type": "code",
   "execution_count": 43,
   "metadata": {},
   "outputs": [
    {
     "data": {
      "text/plain": [
       "0.00038918995888678537"
      ]
     },
     "execution_count": 43,
     "metadata": {},
     "output_type": "execute_result"
    }
   ],
   "source": [
    "# Performance Metrics\n",
    "def iou_score(gold_file, pred_grn_edges):\n",
    "    '''\n",
    "    Function to score predicted grn vs gold standard based on intersection over union.\n",
    "\n",
    "    Score:\n",
    "    For starters, we will use the simple score of intersection / union\n",
    "    Intersection: Count of edges in both gold standard AND predicted grn\n",
    "    Union: Count of gold standard edges + predicted grn edges - Intersection\n",
    "    \n",
    "    Intersection / Union is the score.\n",
    "    \n",
    "    Args:\n",
    "        - gold_file: Path to gold standard file\n",
    "        - pred_grn_edges: set of predicted grn edges\n",
    "    '''\n",
    "    \n",
    "    # Read in gold standard file\n",
    "    gold_df = pd.read_csv(gold_file, sep = '\\t', header = None, names = ['Regulator', 'Target']) \n",
    "    \n",
    "    # Set of gold standard edges\n",
    "    gold_edge_set = set(gold_df.loc[:, 'Regulator'] + '->' + gold_df.loc[:, 'Target'])\n",
    "    \n",
    "    # Get Intersection and Union\n",
    "    intersection = gold_edge_set.intersection(pred_grn_edges)\n",
    "    union = gold_edge_set.union(pred_grn_edges)\n",
    "        \n",
    "    # Get score: Intersection / Union\n",
    "    score = len(intersection) / len(union)\n",
    "    \n",
    "    return score\n",
    "    \n",
    "    \n",
    "lcl_gold = '../dataset/LCL_networks/gold/Cusanovich_gold.txt'\n",
    "iou_score(lcl_gold, lcl_pred_edges)"
   ]
  }
 ],
 "metadata": {
  "kernelspec": {
   "display_name": "Python 3",
   "language": "python",
   "name": "python3"
  },
  "language_info": {
   "codemirror_mode": {
    "name": "ipython",
    "version": 3
   },
   "file_extension": ".py",
   "mimetype": "text/x-python",
   "name": "python",
   "nbconvert_exporter": "python",
   "pygments_lexer": "ipython3",
   "version": "3.7.0"
  }
 },
 "nbformat": 4,
 "nbformat_minor": 2
}
